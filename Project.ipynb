{
 "cells": [
  {
   "cell_type": "code",
   "execution_count": 136,
   "metadata": {},
   "outputs": [],
   "source": [
    "from pandas import Series\n",
    "import json\n",
    "import pandas as pd\n",
    "import datetime\n",
    "import re\n",
    "from textblob import TextBlob\n",
    "from sklearn.model_selection import train_test_split\n",
    "from sklearn import linear_model\n",
    "from sklearn.metrics import mean_squared_error, r2_score\n",
    "import numpy as np\n",
    "import os\n",
    "from collections import defaultdict\n",
    "import statistics\n",
    "\n",
    "\n",
    "def PolMedian(df):\n",
    "    \n",
    "    tweets = defaultdict(list)\n",
    "        \n",
    "    for index, row in df.iterrows():\n",
    "        tweets[row.date].append(row.pol)\n",
    "        \n",
    "    for key in tweets:\n",
    "        tweets[key] = statistics.median(tweets[key])\n",
    "        \n",
    "    return Series(list(tweets.values()))\n",
    "\n",
    "def PolSum(df):\n",
    "\n",
    "    tweets = defaultdict(int)\n",
    "        \n",
    "    for index, row in df.iterrows():\n",
    "        tweets[row.date] += row.pol\n",
    "    return Series(list(tweets.values()))\n",
    "\n",
    "\n",
    "def createModels(X,y):\n",
    "    np.random.seed(1)\n",
    "    X_train, X_test, y_train, y_test = train_test_split(X, y, test_size=0.333333)\n",
    "    \n",
    "    #REGRESSION MODEL\n",
    "    # Create linear regression object\n",
    "    regr = linear_model.LinearRegression()\n",
    "\n",
    "    # Fit regression model to the training set\n",
    "    regr.fit(X_train, y_train)\n",
    "\n",
    "    # Apply model to the test set\n",
    "    y_pred = regr.predict(X_test)\n",
    "\n",
    "    # Model evaluation\n",
    "    print(\"Linear Regression:\")\n",
    "    print(\"Root mean squared error = %.4f\" % np.sqrt(mean_squared_error(y_test, y_pred)))\n",
    "    print('R-squared = %.4f' % r2_score(y_test, y_pred))\n",
    "    print(\"\\n\")         \n",
    "                 \n",
    "    #LASSO            \n",
    "    # Create lasso regression object\n",
    "    lasso = linear_model.LassoCV(cv=2, alphas=(0.01, 0.02, 0.05, 0.1, 0.2, 0.3, 0.5, 1.0))\n",
    "\n",
    "    # Fit regression model to the training set\n",
    "    lasso.fit(X_train, y_train)\n",
    "\n",
    "    # Apply model to the test set\n",
    "    y_pred = lasso.predict(X_test)\n",
    "\n",
    "    \n",
    "    # Model evaluation\n",
    "    print(\"Lasso Model:\")\n",
    "    print(\"Root mean squared error = %.4f\" % np.sqrt(mean_squared_error(y_test, y_pred)))\n",
    "    print('R-squared = %.4f' % r2_score(y_test, y_pred))\n",
    "    print('Selected alpha = %.2f' % lasso.alpha_)\n",
    "    print(\"\\n\")          \n",
    "                 \n",
    "             \n",
    "    #RIDGE\n",
    "    ridge = linear_model.RidgeCV(cv=2, alphas=(0.01, 0.02, 0.05, 0.1, 0.2, 0.3, 0.5, 1.0))\n",
    "\n",
    "    ridge.fit(X_train, y_train)\n",
    "\n",
    "    # Apply model to the test set\n",
    "    y_pred = ridge.predict(X_test)\n",
    "\n",
    "    # Model evaluation\n",
    "    print(\"Ridge: \")\n",
    "    print(\"Root mean squared error = %.4f\" % np.sqrt(mean_squared_error(y_test, y_pred)))\n",
    "    print('R-squared = %.4f' % r2_score(y_test, y_pred))\n",
    "    print('Selected alpha = %.2f' % lasso.alpha_)\n",
    "\n",
    "    \n",
    "def getDataSet(Z):\n",
    "    X = pd.DataFrame([Z[0],Z[1],Z[2],Z[3]],columns = [\"lag1\"])\n",
    "    return X\n",
    "def getTarget(Z):\n",
    "    return Z[1:]\n",
    "\n",
    "def getPol(t):\n",
    "    pols = []\n",
    "    for tweet in t.text:\n",
    "        blob = TextBlob(tweet)\n",
    "        pol = blob.sentiment.polarity\n",
    "        pols.append(pol)\n",
    "    t['pol'] = Series(pols, index=t.index)\n",
    "    \n",
    "    return t\n",
    "\n",
    "def getChange(ticker):\n",
    "    cdate = ticker['Date'].values\n",
    "    cdate = cdate[:]\n",
    "    closing = ticker['Close']\n",
    "    opening = ticker['Open']\n",
    "    N = closing.size\n",
    "    \n",
    "    change = closing[:].values-opening[:].values\n",
    "    changeData = Series(change, index=cdate)\n",
    "    \n",
    "    return changeData\n",
    "\n",
    "def GetZ(ticker):\n",
    "    changeData = getChange(ticker)   \n",
    "    Z = (changeData - changeData.mean())/changeData.std()\n",
    "\n",
    "    return Z\n",
    "\n",
    "def get_tweets(f):  \n",
    "    #open data file\n",
    "    \n",
    "    with open(f) as file:\n",
    "        data = file.read()\n",
    "        d = data.split(\"\\n\\n\")[:-1]\n",
    "        \n",
    "    tweets = []\n",
    "    for tweet in d:\n",
    "        t = {}\n",
    "        tw = json.loads(tweet)\n",
    "        if(\"created_at\" in tw.keys()):\n",
    "            t[\"date\"] = datetime.datetime.strptime(tw[\"created_at\"], '%a %b %d %H:%M:%S +0000 %Y').strftime('%Y-%m-%d')\n",
    "            t[\"text\"] = tw[\"text\"]\n",
    "            tweets.append(t)\n",
    "            \n",
    "    return tweets\n",
    "\n",
    "def filt(df, keywords):\n",
    "        \n",
    "    def determine(keywords, text):\n",
    "        val = True\n",
    "        for key in keywords:\n",
    "            if(not re.search(\"(\"+key+\")\", text, flags=re.IGNORECASE)):\n",
    "                return False\n",
    "        return val\n",
    "\n",
    "    tweets = []\n",
    "    for index,row in df.iterrows():\n",
    "        \n",
    "        tweet=row.text\n",
    "        #filter tweets\n",
    "        if(determine(keywords, tweet)):\n",
    "            tweets.append(row)\n",
    "        \n",
    "            \n",
    "    return pd.DataFrame(tweets)\n",
    "\n",
    "def PolAvg(df):\n",
    "    tweets = defaultdict(list)\n",
    "        \n",
    "    for index, row in df.iterrows():\n",
    "        tweets[row.date].append(row.pol)\n",
    "        \n",
    "    for key in tweets:\n",
    "        tweets[key] = sum(tweets[key])/len(tweets[key])\n",
    "    return Series(list(tweets.values()))"
   ]
  },
  {
   "cell_type": "code",
   "execution_count": 132,
   "metadata": {
    "scrolled": true
   },
   "outputs": [
    {
     "data": {
      "text/html": [
       "<div>\n",
       "<style>\n",
       "    .dataframe thead tr:only-child th {\n",
       "        text-align: right;\n",
       "    }\n",
       "\n",
       "    .dataframe thead th {\n",
       "        text-align: left;\n",
       "    }\n",
       "\n",
       "    .dataframe tbody tr th {\n",
       "        vertical-align: top;\n",
       "    }\n",
       "</style>\n",
       "<table border=\"1\" class=\"dataframe\">\n",
       "  <thead>\n",
       "    <tr style=\"text-align: right;\">\n",
       "      <th></th>\n",
       "      <th>date</th>\n",
       "      <th>text</th>\n",
       "    </tr>\n",
       "  </thead>\n",
       "  <tbody>\n",
       "    <tr>\n",
       "      <th>0</th>\n",
       "      <td>2015-04-27</td>\n",
       "      <td>@BrightonHouse_ *****NEW****  CLOSE 2 ME  REMI...</td>\n",
       "    </tr>\n",
       "    <tr>\n",
       "      <th>1</th>\n",
       "      <td>2015-04-27</td>\n",
       "      <td>@Jazzy_Got_it facts</td>\n",
       "    </tr>\n",
       "    <tr>\n",
       "      <th>2</th>\n",
       "      <td>2015-04-27</td>\n",
       "      <td>Happy 4th birthday to my sweet Riley girl!! 🎉 ...</td>\n",
       "    </tr>\n",
       "    <tr>\n",
       "      <th>3</th>\n",
       "      <td>2015-04-27</td>\n",
       "      <td>Woke up to some very incredible news this morn...</td>\n",
       "    </tr>\n",
       "    <tr>\n",
       "      <th>4</th>\n",
       "      <td>2015-04-27</td>\n",
       "      <td>Wish life had a reset button 🔘</td>\n",
       "    </tr>\n",
       "  </tbody>\n",
       "</table>\n",
       "</div>"
      ],
      "text/plain": [
       "         date                                               text\n",
       "0  2015-04-27  @BrightonHouse_ *****NEW****  CLOSE 2 ME  REMI...\n",
       "1  2015-04-27                                @Jazzy_Got_it facts\n",
       "2  2015-04-27  Happy 4th birthday to my sweet Riley girl!! 🎉 ...\n",
       "3  2015-04-27  Woke up to some very incredible news this morn...\n",
       "4  2015-04-27                     Wish life had a reset button 🔘"
      ]
     },
     "execution_count": 132,
     "metadata": {},
     "output_type": "execute_result"
    }
   ],
   "source": [
    "#get tweets\n",
    "directory = os.fsencode('data')\n",
    "\n",
    "tweets = []\n",
    "for file in os.listdir(directory):\n",
    "    filename = os.fsdecode(file)\n",
    "    tw = pd.DataFrame(get_tweets(filename))\n",
    "    tweets.append(tw)\n",
    "tweetsDF = pd.concat(tweets)\n",
    "tweetsDF.head()"
   ]
  },
  {
   "cell_type": "code",
   "execution_count": 133,
   "metadata": {},
   "outputs": [
    {
     "data": {
      "text/html": [
       "<div>\n",
       "<style>\n",
       "    .dataframe thead tr:only-child th {\n",
       "        text-align: right;\n",
       "    }\n",
       "\n",
       "    .dataframe thead th {\n",
       "        text-align: left;\n",
       "    }\n",
       "\n",
       "    .dataframe tbody tr th {\n",
       "        vertical-align: top;\n",
       "    }\n",
       "</style>\n",
       "<table border=\"1\" class=\"dataframe\">\n",
       "  <thead>\n",
       "    <tr style=\"text-align: right;\">\n",
       "      <th></th>\n",
       "      <th>date</th>\n",
       "      <th>text</th>\n",
       "    </tr>\n",
       "  </thead>\n",
       "  <tbody>\n",
       "    <tr>\n",
       "      <th>824</th>\n",
       "      <td>2015-04-27</td>\n",
       "      <td>Check out our website for more great prices at...</td>\n",
       "    </tr>\n",
       "    <tr>\n",
       "      <th>2415</th>\n",
       "      <td>2015-04-27</td>\n",
       "      <td>I don't get it @nikkiturnipseed tbh recruitmen...</td>\n",
       "    </tr>\n",
       "    <tr>\n",
       "      <th>2421</th>\n",
       "      <td>2015-04-27</td>\n",
       "      <td>@aditya_0911 @facebook Down for me too</td>\n",
       "    </tr>\n",
       "    <tr>\n",
       "      <th>2608</th>\n",
       "      <td>2015-04-27</td>\n",
       "      <td>@JustinPulitzer @johnnyt74 @facebook @jimcrame...</td>\n",
       "    </tr>\n",
       "    <tr>\n",
       "      <th>2823</th>\n",
       "      <td>2015-04-27</td>\n",
       "      <td>I should really head over to Facebook and see ...</td>\n",
       "    </tr>\n",
       "  </tbody>\n",
       "</table>\n",
       "</div>"
      ],
      "text/plain": [
       "            date                                               text\n",
       "824   2015-04-27  Check out our website for more great prices at...\n",
       "2415  2015-04-27  I don't get it @nikkiturnipseed tbh recruitmen...\n",
       "2421  2015-04-27             @aditya_0911 @facebook Down for me too\n",
       "2608  2015-04-27  @JustinPulitzer @johnnyt74 @facebook @jimcrame...\n",
       "2823  2015-04-27  I should really head over to Facebook and see ..."
      ]
     },
     "execution_count": 133,
     "metadata": {},
     "output_type": "execute_result"
    }
   ],
   "source": [
    "NetflixTweets = filt(tweetsDF,[\"Netflix\"])\n",
    "MCDTweets = filt(tweetsDF,[\"Mcdonalds\"])\n",
    "FacebookTweets = filt(tweetsDF,[\"facebook\"])\n",
    "FacebookTweets.head()"
   ]
  },
  {
   "cell_type": "code",
   "execution_count": 137,
   "metadata": {},
   "outputs": [
    {
     "data": {
      "text/html": [
       "<div>\n",
       "<style>\n",
       "    .dataframe thead tr:only-child th {\n",
       "        text-align: right;\n",
       "    }\n",
       "\n",
       "    .dataframe thead th {\n",
       "        text-align: left;\n",
       "    }\n",
       "\n",
       "    .dataframe tbody tr th {\n",
       "        vertical-align: top;\n",
       "    }\n",
       "</style>\n",
       "<table border=\"1\" class=\"dataframe\">\n",
       "  <thead>\n",
       "    <tr style=\"text-align: right;\">\n",
       "      <th></th>\n",
       "      <th>date</th>\n",
       "      <th>text</th>\n",
       "      <th>pol</th>\n",
       "    </tr>\n",
       "  </thead>\n",
       "  <tbody>\n",
       "    <tr>\n",
       "      <th>824</th>\n",
       "      <td>2015-04-27</td>\n",
       "      <td>Check out our website for more great prices at...</td>\n",
       "      <td>0.650000</td>\n",
       "    </tr>\n",
       "    <tr>\n",
       "      <th>2415</th>\n",
       "      <td>2015-04-27</td>\n",
       "      <td>I don't get it @nikkiturnipseed tbh recruitmen...</td>\n",
       "      <td>0.050000</td>\n",
       "    </tr>\n",
       "    <tr>\n",
       "      <th>2421</th>\n",
       "      <td>2015-04-27</td>\n",
       "      <td>@aditya_0911 @facebook Down for me too</td>\n",
       "      <td>-0.155556</td>\n",
       "    </tr>\n",
       "    <tr>\n",
       "      <th>2608</th>\n",
       "      <td>2015-04-27</td>\n",
       "      <td>@JustinPulitzer @johnnyt74 @facebook @jimcrame...</td>\n",
       "      <td>0.500000</td>\n",
       "    </tr>\n",
       "    <tr>\n",
       "      <th>2823</th>\n",
       "      <td>2015-04-27</td>\n",
       "      <td>I should really head over to Facebook and see ...</td>\n",
       "      <td>-0.257143</td>\n",
       "    </tr>\n",
       "  </tbody>\n",
       "</table>\n",
       "</div>"
      ],
      "text/plain": [
       "            date                                               text       pol\n",
       "824   2015-04-27  Check out our website for more great prices at...  0.650000\n",
       "2415  2015-04-27  I don't get it @nikkiturnipseed tbh recruitmen...  0.050000\n",
       "2421  2015-04-27             @aditya_0911 @facebook Down for me too -0.155556\n",
       "2608  2015-04-27  @JustinPulitzer @johnnyt74 @facebook @jimcrame...  0.500000\n",
       "2823  2015-04-27  I should really head over to Facebook and see ... -0.257143"
      ]
     },
     "execution_count": 137,
     "metadata": {},
     "output_type": "execute_result"
    }
   ],
   "source": [
    "NetflixPols = getPol(NetflixTweets)\n",
    "FBPols = getPol(FacebookTweets)\n",
    "FBPols.head()"
   ]
  },
  {
   "cell_type": "code",
   "execution_count": 138,
   "metadata": {},
   "outputs": [
    {
     "data": {
      "text/plain": [
       "2015-04-27   -1.697213\n",
       "2015-04-28    0.475588\n",
       "2015-04-29    0.384414\n",
       "2015-04-30   -0.025830\n",
       "2015-05-01    0.863042\n",
       "dtype: float64"
      ]
     },
     "execution_count": 138,
     "metadata": {},
     "output_type": "execute_result"
    }
   ],
   "source": [
    "FB = pd.read_csv('FB.csv', header='infer' ) \n",
    "NFLX = pd.read_csv('NFLX.csv', header='infer')\n",
    "MCD = pd.read_csv('MCD.csv', header='infer')\n",
    "\n",
    "#get standardized price changes\n",
    "FBZ=GetZ(FB)\n",
    "NFLXZ=GetZ(NFLX)\n",
    "MCDZ=GetZ(MCD)\n",
    "MCDZ.head()"
   ]
  },
  {
   "cell_type": "markdown",
   "metadata": {},
   "source": [
    "# MCDONALDS"
   ]
  },
  {
   "cell_type": "code",
   "execution_count": 139,
   "metadata": {},
   "outputs": [
    {
     "name": "stdout",
     "output_type": "stream",
     "text": [
      "Linear Regression:\n",
      "Root mean squared error = 0.4364\n",
      "R-squared = 0.0360\n",
      "\n",
      "\n",
      "Lasso Model:\n",
      "Root mean squared error = 0.4446\n",
      "R-squared = -0.0007\n",
      "Selected alpha = 1.00\n",
      "\n",
      "\n",
      "Ridge: \n",
      "Root mean squared error = 0.4364\n",
      "R-squared = 0.0358\n",
      "Selected alpha = 1.00\n"
     ]
    }
   ],
   "source": [
    "X = getDataSet(MCDZ)\n",
    "y = getTarget(MCDZ)\n",
    "createModels(X, y)"
   ]
  },
  {
   "cell_type": "code",
   "execution_count": 140,
   "metadata": {},
   "outputs": [
    {
     "name": "stdout",
     "output_type": "stream",
     "text": [
      "Linear Regression:\n",
      "Root mean squared error = 0.4364\n",
      "R-squared = 0.0359\n",
      "\n",
      "\n",
      "Lasso Model:\n",
      "Root mean squared error = 0.4446\n",
      "R-squared = -0.0007\n",
      "Selected alpha = 1.00\n",
      "\n",
      "\n",
      "Ridge: \n",
      "Root mean squared error = 0.4364\n",
      "R-squared = 0.0357\n",
      "Selected alpha = 1.00\n"
     ]
    }
   ],
   "source": [
    "#add sum of polarity\n",
    "MCDPols = getPol(MCDTweets)\n",
    "X[\"sentiment sum\"] = PolSum(MCDPols)\n",
    "createModels(X, y)"
   ]
  },
  {
   "cell_type": "code",
   "execution_count": 141,
   "metadata": {},
   "outputs": [
    {
     "name": "stdout",
     "output_type": "stream",
     "text": [
      "Linear Regression:\n",
      "Root mean squared error = 0.4363\n",
      "R-squared = 0.0362\n",
      "\n",
      "\n",
      "Lasso Model:\n",
      "Root mean squared error = 0.4446\n",
      "R-squared = -0.0007\n",
      "Selected alpha = 1.00\n",
      "\n",
      "\n",
      "Ridge: \n",
      "Root mean squared error = 0.4363\n",
      "R-squared = 0.0361\n",
      "Selected alpha = 1.00\n"
     ]
    },
    {
     "data": {
      "text/html": [
       "<div>\n",
       "<style>\n",
       "    .dataframe thead tr:only-child th {\n",
       "        text-align: right;\n",
       "    }\n",
       "\n",
       "    .dataframe thead th {\n",
       "        text-align: left;\n",
       "    }\n",
       "\n",
       "    .dataframe tbody tr th {\n",
       "        vertical-align: top;\n",
       "    }\n",
       "</style>\n",
       "<table border=\"1\" class=\"dataframe\">\n",
       "  <thead>\n",
       "    <tr style=\"text-align: right;\">\n",
       "      <th></th>\n",
       "      <th>lag1</th>\n",
       "      <th>sentiment sum</th>\n",
       "      <th>sentiment average</th>\n",
       "    </tr>\n",
       "  </thead>\n",
       "  <tbody>\n",
       "    <tr>\n",
       "      <th>0</th>\n",
       "      <td>-1.697213</td>\n",
       "      <td>-0.325000</td>\n",
       "      <td>-0.325000</td>\n",
       "    </tr>\n",
       "    <tr>\n",
       "      <th>1</th>\n",
       "      <td>0.475588</td>\n",
       "      <td>-0.331818</td>\n",
       "      <td>-0.165909</td>\n",
       "    </tr>\n",
       "    <tr>\n",
       "      <th>2</th>\n",
       "      <td>0.384414</td>\n",
       "      <td>0.225000</td>\n",
       "      <td>0.028125</td>\n",
       "    </tr>\n",
       "    <tr>\n",
       "      <th>3</th>\n",
       "      <td>-0.025830</td>\n",
       "      <td>-0.150000</td>\n",
       "      <td>-0.075000</td>\n",
       "    </tr>\n",
       "  </tbody>\n",
       "</table>\n",
       "</div>"
      ],
      "text/plain": [
       "       lag1  sentiment sum  sentiment average\n",
       "0 -1.697213      -0.325000          -0.325000\n",
       "1  0.475588      -0.331818          -0.165909\n",
       "2  0.384414       0.225000           0.028125\n",
       "3 -0.025830      -0.150000          -0.075000"
      ]
     },
     "execution_count": 141,
     "metadata": {},
     "output_type": "execute_result"
    }
   ],
   "source": [
    "X[\"sentiment average\"] =  PolAvg(MCDPols)\n",
    "createModels(X, y)\n",
    "X.head()"
   ]
  },
  {
   "cell_type": "code",
   "execution_count": 142,
   "metadata": {},
   "outputs": [
    {
     "name": "stdout",
     "output_type": "stream",
     "text": [
      "Linear Regression:\n",
      "Root mean squared error = 0.4363\n",
      "R-squared = 0.0364\n",
      "\n",
      "\n",
      "Lasso Model:\n",
      "Root mean squared error = 0.4446\n",
      "R-squared = -0.0007\n",
      "Selected alpha = 1.00\n",
      "\n",
      "\n",
      "Ridge: \n",
      "Root mean squared error = 0.4363\n",
      "R-squared = 0.0363\n",
      "Selected alpha = 1.00\n"
     ]
    }
   ],
   "source": [
    "X[\"sentiment median\"] =  PolMedian(MCDPols)\n",
    "createModels(X, y)"
   ]
  },
  {
   "cell_type": "markdown",
   "metadata": {},
   "source": [
    "# FACEBOOK"
   ]
  },
  {
   "cell_type": "code",
   "execution_count": 143,
   "metadata": {},
   "outputs": [
    {
     "name": "stdout",
     "output_type": "stream",
     "text": [
      "Linear Regression:\n",
      "Root mean squared error = 0.9107\n",
      "R-squared = -0.8784\n",
      "\n",
      "\n",
      "Lasso Model:\n",
      "Root mean squared error = 0.8543\n",
      "R-squared = -0.6530\n",
      "Selected alpha = 1.00\n",
      "\n",
      "\n",
      "Ridge: \n",
      "Root mean squared error = 0.8997\n",
      "R-squared = -0.8335\n",
      "Selected alpha = 1.00\n"
     ]
    }
   ],
   "source": [
    "X = getDataSet(FBZ)\n",
    "y = getTarget(FBZ)\n",
    "createModels(X, y)"
   ]
  },
  {
   "cell_type": "code",
   "execution_count": 144,
   "metadata": {},
   "outputs": [
    {
     "name": "stdout",
     "output_type": "stream",
     "text": [
      "Linear Regression:\n",
      "Root mean squared error = 0.8702\n",
      "R-squared = -0.7150\n",
      "\n",
      "\n",
      "Lasso Model:\n",
      "Root mean squared error = 0.8543\n",
      "R-squared = -0.6530\n",
      "Selected alpha = 1.00\n",
      "\n",
      "\n",
      "Ridge: \n",
      "Root mean squared error = 0.8600\n",
      "R-squared = -0.6751\n",
      "Selected alpha = 1.00\n"
     ]
    }
   ],
   "source": [
    "#add sum of polarity\n",
    "FBPols = getPol(FacebookTweets)\n",
    "FBSum = PolSum(FBPols)\n",
    "X[\"sentiment sum\"] = FBSum\n",
    "createModels(X, y)"
   ]
  },
  {
   "cell_type": "code",
   "execution_count": 145,
   "metadata": {},
   "outputs": [
    {
     "name": "stdout",
     "output_type": "stream",
     "text": [
      "Linear Regression:\n",
      "Root mean squared error = 0.8752\n",
      "R-squared = -0.7350\n",
      "\n",
      "\n",
      "Lasso Model:\n",
      "Root mean squared error = 0.8543\n",
      "R-squared = -0.6530\n",
      "Selected alpha = 1.00\n",
      "\n",
      "\n",
      "Ridge: \n",
      "Root mean squared error = 0.8650\n",
      "R-squared = -0.6948\n",
      "Selected alpha = 1.00\n"
     ]
    }
   ],
   "source": [
    "X[\"sentiment average\"] = PolAvg(FBPols)\n",
    "createModels(X, y)"
   ]
  },
  {
   "cell_type": "code",
   "execution_count": 146,
   "metadata": {},
   "outputs": [
    {
     "name": "stdout",
     "output_type": "stream",
     "text": [
      "Linear Regression:\n",
      "Root mean squared error = 0.8433\n",
      "R-squared = -0.6109\n",
      "\n",
      "\n",
      "Lasso Model:\n",
      "Root mean squared error = 0.8543\n",
      "R-squared = -0.6530\n",
      "Selected alpha = 1.00\n",
      "\n",
      "\n",
      "Ridge: \n",
      "Root mean squared error = 0.8334\n",
      "R-squared = -0.5731\n",
      "Selected alpha = 1.00\n"
     ]
    }
   ],
   "source": [
    "X[\"sentiment median\"] = PolMedian(FBPols)\n",
    "createModels(X, y)"
   ]
  },
  {
   "cell_type": "markdown",
   "metadata": {},
   "source": [
    "# NETFLIX"
   ]
  },
  {
   "cell_type": "code",
   "execution_count": 147,
   "metadata": {},
   "outputs": [
    {
     "name": "stdout",
     "output_type": "stream",
     "text": [
      "Linear Regression:\n",
      "Root mean squared error = 1.7101\n",
      "R-squared = -14.0726\n",
      "\n",
      "\n",
      "Lasso Model:\n",
      "Root mean squared error = 1.2386\n",
      "R-squared = -6.9070\n",
      "Selected alpha = 1.00\n",
      "\n",
      "\n",
      "Ridge: \n",
      "Root mean squared error = 1.7038\n",
      "R-squared = -13.9612\n",
      "Selected alpha = 1.00\n"
     ]
    }
   ],
   "source": [
    "X = getDataSet(NFLXZ)\n",
    "y = getTarget(NFLXZ)\n",
    "createModels(X, y)"
   ]
  },
  {
   "cell_type": "code",
   "execution_count": 148,
   "metadata": {},
   "outputs": [
    {
     "name": "stdout",
     "output_type": "stream",
     "text": [
      "Linear Regression:\n",
      "Root mean squared error = 1.7824\n",
      "R-squared = -15.3730\n",
      "\n",
      "\n",
      "Lasso Model:\n",
      "Root mean squared error = 1.2386\n",
      "R-squared = -6.9070\n",
      "Selected alpha = 1.00\n",
      "\n",
      "\n",
      "Ridge: \n",
      "Root mean squared error = 1.7757\n",
      "R-squared = -15.2503\n",
      "Selected alpha = 1.00\n"
     ]
    }
   ],
   "source": [
    "#add sum of polarity\n",
    "NetflixPols = getPol(NetflixTweets)\n",
    "NFLXSum = PolSum(NetflixPols)\n",
    "\n",
    "X[\"sentiment sum\"] = NFLXSum\n",
    "createModels(X, y)"
   ]
  },
  {
   "cell_type": "code",
   "execution_count": 149,
   "metadata": {},
   "outputs": [
    {
     "name": "stdout",
     "output_type": "stream",
     "text": [
      "Linear Regression:\n",
      "Root mean squared error = 1.7820\n",
      "R-squared = -15.3662\n",
      "\n",
      "\n",
      "Lasso Model:\n",
      "Root mean squared error = 1.2386\n",
      "R-squared = -6.9070\n",
      "Selected alpha = 1.00\n",
      "\n",
      "\n",
      "Ridge: \n",
      "Root mean squared error = 1.7753\n",
      "R-squared = -15.2437\n",
      "Selected alpha = 1.00\n"
     ]
    }
   ],
   "source": [
    "X[\"sentiment average\"] = PolAvg(NetflixPols)\n",
    "createModels(X, y)"
   ]
  },
  {
   "cell_type": "code",
   "execution_count": 150,
   "metadata": {},
   "outputs": [
    {
     "name": "stdout",
     "output_type": "stream",
     "text": [
      "Linear Regression:\n",
      "Root mean squared error = 1.7816\n",
      "R-squared = -15.3576\n",
      "\n",
      "\n",
      "Lasso Model:\n",
      "Root mean squared error = 1.2386\n",
      "R-squared = -6.9070\n",
      "Selected alpha = 1.00\n",
      "\n",
      "\n",
      "Ridge: \n",
      "Root mean squared error = 1.7749\n",
      "R-squared = -15.2356\n",
      "Selected alpha = 1.00\n"
     ]
    }
   ],
   "source": [
    "X[\"sentiment median\"] = PolMedian(NetflixPols)\n",
    "createModels(X, y)"
   ]
  },
  {
   "cell_type": "code",
   "execution_count": null,
   "metadata": {
    "collapsed": true
   },
   "outputs": [],
   "source": []
  }
 ],
 "metadata": {
  "kernelspec": {
   "display_name": "Python 3",
   "language": "python",
   "name": "python3"
  },
  "language_info": {
   "codemirror_mode": {
    "name": "ipython",
    "version": 3
   },
   "file_extension": ".py",
   "mimetype": "text/x-python",
   "name": "python",
   "nbconvert_exporter": "python",
   "pygments_lexer": "ipython3",
   "version": "3.6.3"
  }
 },
 "nbformat": 4,
 "nbformat_minor": 2
}
